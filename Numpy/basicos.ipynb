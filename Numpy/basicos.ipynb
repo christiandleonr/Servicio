{
 "cells": [
  {
   "cell_type": "markdown",
   "metadata": {
    "collapsed": true,
    "pycharm": {
     "name": "#%% md\n"
    }
   },
   "source": [
    "# Basicos\n",
    "\n",
    "El objetivo principal de NumPy son los Array multidimensionales homogéneos. \n",
    "Son tablas de elementos (Usualmente números), todos del mismo tipo, ingresados \n",
    "en tuplas de enteros no negativos. En NumPy las dimensiones tienen el nombre de **“axes”** (eje).\n",
    "\n",
    "Por ejemplo, las coordenadas de un punto en un espacio tridimensional [1, 2, 3] se \n",
    "dice que es de un solo eje. Este eje tiene 3 elementos por lo que decimos que tiene \n",
    "una longitud **(length)** de 3. En el ejemplo que se muestra a continuación el Array tiene 2 ejes. \n",
    "El primer eje tiene una longitud de 2 (este eje contiene otros 2 Array) el segundo eje tiene \n",
    "una longitud de 3.\n",
    "\n",
    "                   [[ 1., 0., 0.],  \n",
    "                    [ 0., 1., 2.]]\n",
    "\n",
    "La clase Array en NumPy es llamada ndarray, también es común que le asignen el nombre \n",
    "únicamente como array. Es importante hacer notar que **numpy.array** no es lo mismo que la \n",
    "librería estándar de Python **array.array**, que solo puede manejar Arrays de una sola dimensión \n",
    "y ofrece menos funcionalidades. Los atributos mas importantes de un objeto tipo ndarray son:\n",
    "\n",
    "\n",
    "**ndarray.ndim**      \n",
    "El número de ejes (axes, dimensiones) que tiene el Array.\n",
    "\n",
    "**ndarray.shape**  \n",
    "Las dimensiones del Array. Esta información se presenta en tuplas de enteros que indican el \n",
    "tamaño del arreglo en cada dimensión. Para una matriz con n filas y m columnas, **shape** tendra\n",
    "el valor de (n, m).\n",
    "\n",
    "**ndarray.size**  \n",
    "El numero total de elementos que tiene el Array. Esto es igual al producto de los elementos \n",
    "obtenidos con el metodo **shape**.\n",
    "\n",
    "**ndarray.dtype**  \n",
    "Describe el tipo a los que pertenecen los elementos dentro del Array. Tambien es posible \n",
    "crear o especificar el **dtype** de un Array usando la librería estándar de Python para tipos. \n",
    "Adicionalmente NumPy provee tipos. numpy.int32, numpy.int16, y numpy.float64 son algunos \n",
    "ejemplos.\n",
    "\n",
    "**ndarray.itemsize**  \n",
    "El tamaño en bytes de cada elemento del Array. Por ejemplo, un Array con elementos de tipo float64 \n",
    "tiene un itemsize de 8 (=64/8), mientras que un Array de tipo complex32 tiene un itemsize de 4 (=32/8).\n",
    "\n",
    "**ndarray.data**  \n",
    "Este método crea un buffer que contendrá los elementos actuales del Array. Normalmente no es necesario \n",
    "utilizar este atributo porque nos interesa acceder al Array utilizando las facilidades que nos brindan \n",
    "los índices."
   ]
  },
  {
   "cell_type": "markdown",
   "source": [
    "## Ejemplos\n"
   ],
   "metadata": {
    "collapsed": false
   }
  },
  {
   "cell_type": "code",
   "execution_count": 2,
   "outputs": [],
   "source": [
    "import numpy as np"
   ],
   "metadata": {
    "collapsed": false,
    "pycharm": {
     "name": "#%%\n",
     "is_executing": false
    }
   }
  },
  {
   "cell_type": "code",
   "execution_count": 4,
   "outputs": [
    {
     "data": {
      "text/plain": "array([[ 0,  1,  2,  3,  4],\n       [ 5,  6,  7,  8,  9],\n       [10, 11, 12, 13, 14]])"
     },
     "metadata": {},
     "output_type": "execute_result",
     "execution_count": 4
    }
   ],
   "source": [
    "a = np.arange(15).reshape(3, 5)\n",
    "a"
   ],
   "metadata": {
    "collapsed": false,
    "pycharm": {
     "name": "#%%\n",
     "is_executing": false
    }
   }
  },
  {
   "cell_type": "code",
   "execution_count": 5,
   "outputs": [
    {
     "data": {
      "text/plain": "(3, 5)"
     },
     "metadata": {},
     "output_type": "execute_result",
     "execution_count": 5
    }
   ],
   "source": [
    "a.shape"
   ],
   "metadata": {
    "collapsed": false,
    "pycharm": {
     "name": "#%%\n",
     "is_executing": false
    }
   }
  },
  {
   "cell_type": "code",
   "execution_count": 6,
   "outputs": [
    {
     "data": {
      "text/plain": "2"
     },
     "metadata": {},
     "output_type": "execute_result",
     "execution_count": 6
    }
   ],
   "source": [
    "a.ndim"
   ],
   "metadata": {
    "collapsed": false,
    "pycharm": {
     "name": "#%%\n",
     "is_executing": false
    }
   }
  },
  {
   "cell_type": "code",
   "execution_count": 7,
   "outputs": [
    {
     "data": {
      "text/plain": "'int32'"
     },
     "metadata": {},
     "output_type": "execute_result",
     "execution_count": 7
    }
   ],
   "source": [
    "a.dtype.name"
   ],
   "metadata": {
    "collapsed": false,
    "pycharm": {
     "name": "#%%\n",
     "is_executing": false
    }
   }
  },
  {
   "cell_type": "code",
   "execution_count": 8,
   "outputs": [
    {
     "data": {
      "text/plain": "4"
     },
     "metadata": {},
     "output_type": "execute_result",
     "execution_count": 8
    }
   ],
   "source": [
    "a.itemsize"
   ],
   "metadata": {
    "collapsed": false,
    "pycharm": {
     "name": "#%%\n",
     "is_executing": false
    }
   }
  },
  {
   "cell_type": "code",
   "execution_count": 9,
   "outputs": [
    {
     "data": {
      "text/plain": "15"
     },
     "metadata": {},
     "output_type": "execute_result",
     "execution_count": 9
    }
   ],
   "source": [
    "a.size"
   ],
   "metadata": {
    "collapsed": false,
    "pycharm": {
     "name": "#%%\n",
     "is_executing": false
    }
   }
  },
  {
   "cell_type": "code",
   "execution_count": 10,
   "outputs": [
    {
     "data": {
      "text/plain": "numpy.ndarray"
     },
     "metadata": {},
     "output_type": "execute_result",
     "execution_count": 10
    }
   ],
   "source": [
    "type(a)\n"
   ],
   "metadata": {
    "collapsed": false,
    "pycharm": {
     "name": "#%%\n",
     "is_executing": false
    }
   }
  }
 ],
 "metadata": {
  "kernelspec": {
   "display_name": "Python 3",
   "language": "python",
   "name": "python3"
  },
  "language_info": {
   "codemirror_mode": {
    "name": "ipython",
    "version": 2
   },
   "file_extension": ".py",
   "mimetype": "text/x-python",
   "name": "python",
   "nbconvert_exporter": "python",
   "pygments_lexer": "ipython2",
   "version": "2.7.6"
  },
  "pycharm": {
   "stem_cell": {
    "cell_type": "raw",
    "source": [],
    "metadata": {
     "collapsed": false
    }
   }
  }
 },
 "nbformat": 4,
 "nbformat_minor": 0
}
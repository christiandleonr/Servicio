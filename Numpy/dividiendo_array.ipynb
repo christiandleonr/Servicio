{
 "cells": [
  {
   "cell_type": "markdown",
   "metadata": {
    "collapsed": true,
    "pycharm": {
     "name": "#%% md\n"
    }
   },
   "source": [
    "## Dividiendo un arreglo en otros más pequeños\n",
    "\n",
    "\n",
    "Utilizando **hsplit** puedes dividir un Array a lo largo de su eje horizontal, se tiene que especificar el numero de \n",
    "Arrays equivalentes en forma a retornar o especificando las columnas en las cuales la división debe de ocurrir."
   ]
  },
  {
   "cell_type": "code",
   "execution_count": 1,
   "outputs": [
    {
     "data": {
      "text/plain": "array([[5., 9., 1., 9., 3., 4., 8., 4., 5., 0., 7., 5.],\n       [3., 7., 3., 4., 1., 4., 2., 2., 7., 2., 4., 9.]])"
     },
     "metadata": {},
     "output_type": "execute_result",
     "execution_count": 1
    }
   ],
   "source": [
    "import numpy as np\n",
    "rg = np.random.default_rng(1)\n",
    "\n",
    "a = np.floor(10*rg.random((2,12)))\n",
    "a"
   ],
   "metadata": {
    "collapsed": false,
    "pycharm": {
     "name": "#%% \n",
     "is_executing": false
    }
   }
  },
  {
   "cell_type": "code",
   "execution_count": 2,
   "outputs": [
    {
     "data": {
      "text/plain": "[array([[5., 9., 1., 9.],\n        [3., 7., 3., 4.]]),\n array([[3., 4., 8., 4.],\n        [1., 4., 2., 2.]]),\n array([[5., 0., 7., 5.],\n        [7., 2., 4., 9.]])]"
     },
     "metadata": {},
     "output_type": "execute_result",
     "execution_count": 2
    }
   ],
   "source": [
    "# dividiendo a en tres partes\n",
    "\n",
    "np.hsplit(a, 3)"
   ],
   "metadata": {
    "collapsed": false,
    "pycharm": {
     "name": "#%%\n",
     "is_executing": false
    }
   }
  },
  {
   "cell_type": "code",
   "execution_count": 3,
   "outputs": [
    {
     "data": {
      "text/plain": "[array([[5., 9., 1.],\n        [3., 7., 3.]]),\n array([[9.],\n        [4.]]),\n array([[3., 4., 8., 4., 5., 0., 7., 5.],\n        [1., 4., 2., 2., 7., 2., 4., 9.]])]"
     },
     "metadata": {},
     "output_type": "execute_result",
     "execution_count": 3
    }
   ],
   "source": [
    "# dividiendo a despues de la tercera y cuarta columna\n",
    "\n",
    "np.hsplit(a, (3, 4))"
   ],
   "metadata": {
    "collapsed": false,
    "pycharm": {
     "name": "#%%\n",
     "is_executing": false
    }
   }
  }
 ],
 "metadata": {
  "kernelspec": {
   "display_name": "Python 3",
   "language": "python",
   "name": "python3"
  },
  "language_info": {
   "codemirror_mode": {
    "name": "ipython",
    "version": 2
   },
   "file_extension": ".py",
   "mimetype": "text/x-python",
   "name": "python",
   "nbconvert_exporter": "python",
   "pygments_lexer": "ipython2",
   "version": "2.7.6"
  },
  "pycharm": {
   "stem_cell": {
    "cell_type": "raw",
    "source": [],
    "metadata": {
     "collapsed": false
    }
   }
  }
 },
 "nbformat": 4,
 "nbformat_minor": 0
}
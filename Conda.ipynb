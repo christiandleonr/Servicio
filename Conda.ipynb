{
 "cells": [
  {
   "cell_type": "markdown",
   "source": [
    "# Creación de ambiente virtual con Anaconda\n",
    "\n",
    "Crear un ambiente virtual se ha vuelto una práctica muy utilizada por los \n",
    "desarrolladores que buscan trabajar con distintas paqueterías en distintos proyectos. \n",
    "Utilizar un ambiente virtual con Conda te permitirá tener diferentes instancias de \n",
    "Python cada una con la versión que tu necesites, también te permitirá instalar distintas \n",
    "paqueterías en cada uno de estos ambientes. Esto brinda una gran ventaja ya que, \n",
    "si deseas, por ejemplo, realizar un desarrollo web con Python y Django podrás tener \n",
    "las paqueterías de Django instaladas en un ambiente virtual mientras que, \n",
    "si deseas experimentar con paqueterías como Scikit Learn, TensorFlow o PyTorch \n",
    "podrás tener un ambiente virtual totalmente independiente. A continuación, se agregarán \n",
    "los enlaces donde podrás descargar Anaconda y las instrucciones necesarias para crear \n",
    "un ambiente virtual."
   ],
   "metadata": {
    "collapsed": false,
    "pycharm": {
     "name": "#%% md\n"
    }
   }
  },
  {
   "cell_type": "markdown",
   "source": [
    "## Pagina Oficial de Anaconda\n",
    "\n",
    "https://www.anaconda.com/\n",
    "\n",
    "Aquí podrás encontrar la opción “Download” la cual te enviara a los enlaces de descarga. \n",
    "Necesitaras ejecutar el archivo que fue descargado para que se instale Anaconda. Podrás \n",
    "realizar la instalación de manera sencilla con el siguiente tutorial https://www.youtube.com/watch?v=z4oJh-ZCB7U. \n",
    "Anaconda no es solo es el gestor de paquetes (Conda), si no que cuenta con muchas otras \n",
    "herramientas que facilitaran el trabajo de Data Scientist."
   ],
   "metadata": {
    "collapsed": false,
    "pycharm": {
     "name": "#%% md\n"
    }
   }
  },
  {
   "cell_type": "markdown",
   "source": [
    "## Conda\n",
    "\n",
    "Puedes utilizar la terminal de tu sistema operativo para ejecutar los siguientes comandos.\n",
    "\n",
    "### Creación del entorno virtual\n",
    "\n",
    "**Comando**    \n",
    "**conda create env --name nombre_entorno python=python_version**\n",
    "\n",
    "nombre_entorno :\n",
    "    Nombre descriptivo para el nuevo entorno virtual.\n",
    "\n",
    "python_version :\n",
    "    La versión de python que se ajuste a tus necesidades (2.0, 2.4, 3.7....)\n",
    "\n",
    "### Activar entorno virtual\n",
    "\n",
    "**Comando**  \n",
    "**activate nombre_entorno**\n",
    "\n",
    "Una vez actives el entorno virtual podrás usar el manejador de paquetes de tu preferencia \n",
    "ya sea conda o pip, también podrás correr cualquier script hecho en Python y ejecutara \n",
    "perfectamente todos los import que el script contenga (siempre y cuando las paqueterías estén instaladas \n",
    "en el ambiente virtual). "
   ],
   "metadata": {
    "collapsed": false,
    "pycharm": {
     "name": "#%% md\n"
    }
   }
  }
 ],
 "metadata": {
  "kernelspec": {
   "display_name": "Python 3",
   "language": "python",
   "name": "python3"
  },
  "language_info": {
   "codemirror_mode": {
    "name": "ipython",
    "version": 2
   },
   "file_extension": ".py",
   "mimetype": "text/x-python",
   "name": "python",
   "nbconvert_exporter": "python",
   "pygments_lexer": "ipython2",
   "version": "2.7.6"
  },
  "pycharm": {
   "stem_cell": {
    "cell_type": "raw",
    "source": [],
    "metadata": {
     "collapsed": false
    }
   }
  }
 },
 "nbformat": 4,
 "nbformat_minor": 0
}